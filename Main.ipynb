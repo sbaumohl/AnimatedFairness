{
 "cells": [
  {
   "cell_type": "code",
   "execution_count": 7,
   "id": "a00f1ee7-322a-4981-a5cd-698eb1ac1859",
   "metadata": {},
   "outputs": [
    {
     "name": "stdout",
     "output_type": "stream",
     "text": [
      "grp  label\n",
      "A    -1        43\n",
      "      1       149\n",
      "B    -1        67\n",
      "      1       241\n",
      "dtype: int64\n"
     ]
    }
   ],
   "source": [
    "from manim import *\n",
    "from scipy.stats import norm\n",
    "import numpy as np\n",
    "import random\n",
    "import math\n",
    "import pandas as pd\n",
    "\n",
    "def gen_dataset(n: int = 500) -> pd.DataFrame:\n",
    "    groups = [\"A\", \"B\"]\n",
    "    \n",
    "    grps = random.choices(groups, weights=[0.4, 0.6], k=n)\n",
    "    z_xs = np.vectorize(lambda x: norm.ppf(max(1e-9, x)))(np.random.rand(n))\n",
    "    z_ys = np.vectorize(lambda x: norm.ppf(max(1e-9, x)))(np.random.rand(n))\n",
    "    \n",
    "    x_noise = np.vectorize(lambda x: 0.01*norm.ppf(max(1e-9, x)))(np.random.rand(n))\n",
    "    y_noise = np.vectorize(lambda x: 0.01*norm.ppf(max(1e-9, x)))(np.random.rand(n))\n",
    "    \n",
    "    df = pd.DataFrame({\"x\": z_xs, \"y\": z_ys, \"grp\": grps, \"x_noise\": x_noise, \"y_noise\": y_noise})\n",
    "    \n",
    "    df['label'] = np.where(df['x'] - df['y'] < 1, 1, -1)\n",
    "    \n",
    "    return df\n",
    "\n",
    "\n",
    "data = gen_dataset()\n",
    "\n",
    "print(data.groupby(by=[\"grp\", \"label\"]).size())"
   ]
  },
  {
   "cell_type": "code",
   "execution_count": 12,
   "id": "6116622c",
   "metadata": {},
   "outputs": [
    {
     "data": {
      "text/html": [
       "<pre style=\"white-space:pre;overflow-x:auto;line-height:normal;font-family:Menlo,'DejaVu Sans Mono',consolas,'Courier New',monospace\">Manim Community <span style=\"color: #008000; text-decoration-color: #008000\">v0.18.1</span>\n",
       "\n",
       "</pre>\n"
      ],
      "text/plain": [
       "Manim Community \u001b[32mv0.\u001b[0m\u001b[32m18.1\u001b[0m\n",
       "\n"
      ]
     },
     "metadata": {},
     "output_type": "display_data"
    },
    {
     "name": "stderr",
     "output_type": "stream",
     "text": [
      "                                                                                                     \r"
     ]
    },
    {
     "data": {
      "text/html": [
       "<video src=\"media/jupyter/Introduction@2024-11-06@10-12-22.mp4\" controls autoplay loop style=\"max-width: 60%;\"  >\n",
       "      Your browser does not support the <code>video</code> element.\n",
       "    </video>"
      ],
      "text/plain": [
       "<IPython.core.display.Video object>"
      ]
     },
     "metadata": {},
     "output_type": "display_data"
    }
   ],
   "source": [
    "%%manim -qm -v WARNING Introduction\n",
    "\n",
    "dots_grp = {\n",
    "   \"A\": [],\n",
    "   \"B\": []\n",
    "}\n",
    "\n",
    "label_grp = {\n",
    "   -1: [],\n",
    "   1: []\n",
    "}\n",
    "\n",
    "grp_map = {\n",
    "   \"A\": RED,\n",
    "   \"B\": BLUE\n",
    "}\n",
    "\n",
    "class Introduction(Scene):\n",
    "   def construct(self):\n",
    "      ax = Axes(\n",
    "         x_range=[-5, 5, 1],\n",
    "         y_range=[-5, 5, 1],\n",
    "         x_length=6.5,\n",
    "         y_length=6.5,\n",
    "         tips=False,\n",
    "         axis_config={\"include_numbers\": False}\n",
    "      )\n",
    "      \n",
    "      for row in data.iterrows():\n",
    "         x, y, g, lbl = row[1]['x'], row[1]['y'], row[1]['grp'], row[1]['label']\n",
    "         d = Dot(ax.c2p(x, y, 0), radius=0.04, color=grp_map[g])\n",
    "         dots_grp[g].append(d)\n",
    "         label_grp[lbl].append(d)\n",
    "      \n",
    "      group_a_tex = Tex(r\"$\\mathbb{A}$\", font_size=80, color=RED).to_edge(UR)\n",
    "      group_b_tex = Tex(r\"$\\mathbb{B}$\", font_size=80, color=BLUE).next_to(group_a_tex, DOWN)\n",
    "      \n",
    "      group_frameboxes = [\n",
    "         SurroundingRectangle(group_a_tex, buff = .1),\n",
    "         SurroundingRectangle(group_b_tex, buff = .1)\n",
    "      ]\n",
    "      \n",
    "      positive_tex = Tex(r\"Label:  1\", color=ORANGE, font_size=60).to_edge(UL)\n",
    "      negative_tex = Tex(r\"Label: -1\", color=TEAL_A, font_size=60).next_to(positive_tex, DOWN)\n",
    "      \n",
    "      label_frameboxes = [\n",
    "         SurroundingRectangle(positive_tex, buff=.1),\n",
    "         SurroundingRectangle(negative_tex, buff=.1)\n",
    "      ]\n",
    "      \n",
    "      graph = ax.plot(lambda x: x - 1, x_range=[-5, 5], use_smoothing=False, color=YELLOW)\n",
    "      graph_label = ax.get_graph_label(graph, r\"\\text{Decision Boundary}\", x_val=5, direction=UR)\n",
    "      \n",
    "      label_neg_count = DecimalNumber(number=0, num_decimal_places=1, color=ORANGE).next_to(graph, UL)\n",
    "      label_pos_count = DecimalNumber(number=0, num_decimal_places=1, color=TEAL_A).next_to(label_neg_count, DOWN)\n",
    "      \n",
    "      label_neg_a_count = DecimalNumber(number=0, num_decimal_places=1, color=grp_map[\"A\"]).next_to(label_neg_count, LEFT)\n",
    "      label_pos_a_count = DecimalNumber(number=0, num_decimal_places=1, color=grp_map[\"A\"]).next_to(label_pos_count, LEFT)\n",
    "      \n",
    "      label_neg_b_count = DecimalNumber(number=0, num_decimal_places=1, color=grp_map[\"B\"]).next_to(label_neg_a_count, LEFT)\n",
    "      label_pos_b_count = DecimalNumber(number=0, num_decimal_places=1, color=grp_map[\"B\"]).next_to(label_pos_a_count, LEFT)\n",
    "      \n",
    "      # introduce A,B,C datasets\n",
    "      self.play(Write(VGroup(ax, group_a_tex, group_b_tex)))\n",
    "      self.wait(4)\n",
    "      \n",
    "      self.play(Write(group_frameboxes[0]))\n",
    "      self.play(Create(VGroup(*dots_grp[\"A\"])))\n",
    "      self.wait()\n",
    "      \n",
    "      self.play(ReplacementTransform(group_frameboxes[0], group_frameboxes[1]), Create(VGroup(*dots_grp[\"B\"])))\n",
    "      self.wait()\n",
    "      \n",
    "      self.play(FadeOut(group_frameboxes[1], group_a_tex, group_b_tex))\n",
    "\n",
    "      # introduce classifier labels\n",
    "      self.play(Write(VGroup(positive_tex, negative_tex)))\n",
    "      self.play(Write(label_frameboxes[0]))\n",
    "      self.play(FadeToColor(VGroup(*label_grp[1]), color=ORANGE))\n",
    "      \n",
    "      self.play(ReplacementTransform(label_frameboxes[0], label_frameboxes[1]), FadeToColor(VGroup(*label_grp[-1]), color=TEAL_A))\n",
    "      self.play(FadeOut(label_frameboxes[1], positive_tex, negative_tex))\n",
    "      self.wait(2)\n",
    "      \n",
    "      self.play(Create(graph))\n",
    "      self.play(Write(graph_label))\n",
    "      \n",
    "      self.wait()\n",
    "      \n",
    "      self.play(FadeOut(graph_label, graph))\n",
    "      \n",
    "      self.play(Write(label_neg_count), ChangeDecimalToValue(label_neg_count, data[data[\"label\"] == 1].shape[0]), rate_func=linear, run_time=0.25)\n",
    "      self.play(Write(label_pos_count), ChangeDecimalToValue(label_pos_count, data[data[\"label\"] == -1].shape[0]), rate_func=linear, run_time=0.25)\n",
    "      \n",
    "      label_neg_a_count\n",
    "      label_pos_a_count\n",
    "\n",
    "      label_neg_b_count\n",
    "      label_pos_b_count\n",
    "      \n",
    "      self.wait(3)\n",
    "      \n",
    "      \n",
    "      \n"
   ]
  },
  {
   "cell_type": "code",
   "execution_count": 11,
   "id": "947b7a8c",
   "metadata": {},
   "outputs": [
    {
     "data": {
      "text/html": [
       "<pre style=\"white-space:pre;overflow-x:auto;line-height:normal;font-family:Menlo,'DejaVu Sans Mono',consolas,'Courier New',monospace\">Manim Community <span style=\"color: #008000; text-decoration-color: #008000\">v0.18.1</span>\n",
       "\n",
       "</pre>\n"
      ],
      "text/plain": [
       "Manim Community \u001b[32mv0.\u001b[0m\u001b[32m18.1\u001b[0m\n",
       "\n"
      ]
     },
     "metadata": {},
     "output_type": "display_data"
    },
    {
     "name": "stderr",
     "output_type": "stream",
     "text": [
      "                                                                                 \r"
     ]
    },
    {
     "data": {
      "text/html": [
       "<video src=\"media/jupyter/IndTable@2024-11-06@10-08-04.mp4\" controls autoplay loop style=\"max-width: 60%;\"  >\n",
       "      Your browser does not support the <code>video</code> element.\n",
       "    </video>"
      ],
      "text/plain": [
       "<IPython.core.display.Video object>"
      ]
     },
     "metadata": {},
     "output_type": "display_data"
    }
   ],
   "source": [
    "%%manim -qm -v WARNING IndTable\n",
    "\n",
    "class IndTable(Scene):\n",
    "      def get_perc(self, d: pd.Dataframe, y=None, grp=None):\n",
    "            pass\n",
    "      \n",
    "      def construct(self):\n",
    "            # table for showing %s across groups\n",
    "            n = data.shape[0]\n",
    "            data[data['label'] == -1].shape[0] \n",
    "            t0 = Table(\n",
    "                  [\n",
    "                        [\"0\", \"1\"],\n",
    "                        [\"0\", \"1\"],\n",
    "                        [\"0\", \"1\"],\n",
    "                  ],\n",
    "                  row_labels=[\n",
    "                        Tex(r\"$\\mathbb{A}$\", color=RED, font_size=80), \n",
    "                        Tex(r\"$\\mathbb{B}$\", color=BLUE, font_size=80),\n",
    "                        Text(\"All\"), \n",
    "                  ],\n",
    "                  col_labels=[\n",
    "                        Text(\"-1\"), \n",
    "                        Text(\"1\"),\n",
    "                  ])\n",
    "\n",
    "            self.play(Write(t0))\n",
    "\n",
    "            self.wait()"
   ]
  },
  {
   "cell_type": "code",
   "execution_count": null,
   "id": "2f1a989b",
   "metadata": {},
   "outputs": [],
   "source": []
  }
 ],
 "metadata": {
  "kernelspec": {
   "display_name": "Python 3 (ipykernel)",
   "language": "python",
   "name": "python3"
  },
  "language_info": {
   "codemirror_mode": {
    "name": "ipython",
    "version": 3
   },
   "file_extension": ".py",
   "mimetype": "text/x-python",
   "name": "python",
   "nbconvert_exporter": "python",
   "pygments_lexer": "ipython3",
   "version": "3.12.7"
  }
 },
 "nbformat": 4,
 "nbformat_minor": 5
}
